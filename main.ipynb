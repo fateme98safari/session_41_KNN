{
 "cells": [
  {
   "cell_type": "code",
   "execution_count": null,
   "metadata": {},
   "outputs": [],
   "source": [
    "apple width ≈ 6 cm\n",
    "apple lengh ≈ 6 cm\n",
    "banana width ≈ 4 cm\n",
    "banana lengh ≈ 8 cm"
   ]
  },
  {
   "cell_type": "code",
   "execution_count": 1,
   "metadata": {},
   "outputs": [],
   "source": [
    "import numpy as np\n",
    "import matplotlib.pyplot as plt"
   ]
  },
  {
   "cell_type": "code",
   "execution_count": 10,
   "metadata": {},
   "outputs": [],
   "source": [
    "n=100\n",
    "apple_width=np.random.normal(6, 1, n)\n",
    "apple_length=np.random.normal(6 ,1 , n)\n",
    "banana_width=np.random.normal(4 , 1 , n)\n",
    "banana_length=np.random.normal(8 ,1 ,n)"
   ]
  },
  {
   "cell_type": "code",
   "execution_count": 13,
   "metadata": {},
   "outputs": [],
   "source": [
    "x_width=3\n",
    "x_lenght=9"
   ]
  },
  {
   "cell_type": "code",
   "execution_count": 14,
   "metadata": {},
   "outputs": [
    {
     "data": {
      "image/png": "[encoded data removed]",
      "text/plain": [
       "<Figure size 640x480 with 1 Axes>"
      ]
     },
     "metadata": {},
     "output_type": "display_data"
    }
   ],
   "source": [
    "plt.scatter(apple_width,apple_length,c=\"red\",marker=\".\")\n",
    "plt.scatter(banana_width,banana_length,c=\"orange\",marker=\".\")\n",
    "plt.scatter(x_width,x_lenght,c=\"blue\",marker=\"o\")\n",
    "plt.title(\"apple and banana\")\n",
    "plt.xlabel(\"width\")\n",
    "plt.ylabel(\"lenght\")\n",
    "plt.show()"
   ]
  },
  {
   "cell_type": "code",
   "execution_count": 16,
   "metadata": {},
   "outputs": [
    {
     "data": {
      "text/plain": [
       "(200, 2)"
      ]
     },
     "execution_count": 16,
     "metadata": {},
     "output_type": "execute_result"
    }
   ],
   "source": [
    "width=np.concatenate((apple_width,banana_width))\n",
    "lenght=np.concatenate((apple_length,banana_length))\n",
    "x_train=np.array([width,lenght]).T\n",
    "x_train.shape"
   ]
  },
  {
   "cell_type": "code",
   "execution_count": 18,
   "metadata": {},
   "outputs": [
    {
     "data": {
      "text/plain": [
       "array([0, 0, 0, 0, 0, 0, 0, 0, 0, 0, 0, 0, 0, 0, 0, 0, 0, 0, 0, 0, 0, 0,\n",
       "       0, 0, 0, 0, 0, 0, 0, 0, 0, 0, 0, 0, 0, 0, 0, 0, 0, 0, 0, 0, 0, 0,\n",
       "       0, 0, 0, 0, 0, 0, 0, 0, 0, 0, 0, 0, 0, 0, 0, 0, 0, 0, 0, 0, 0, 0,\n",
       "       0, 0, 0, 0, 0, 0, 0, 0, 0, 0, 0, 0, 0, 0, 0, 0, 0, 0, 0, 0, 0, 0,\n",
       "       0, 0, 0, 0, 0, 0, 0, 0, 0, 0, 0, 0])"
      ]
     },
     "execution_count": 18,
     "metadata": {},
     "output_type": "execute_result"
    }
   ],
   "source": [
    "Y_apples=np.zeros(n,dtype=\"int\")\n",
    "Y_apples"
   ]
  },
  {
   "cell_type": "code",
   "execution_count": 19,
   "metadata": {},
   "outputs": [
    {
     "data": {
      "text/plain": [
       "array([1, 1, 1, 1, 1, 1, 1, 1, 1, 1, 1, 1, 1, 1, 1, 1, 1, 1, 1, 1, 1, 1,\n",
       "       1, 1, 1, 1, 1, 1, 1, 1, 1, 1, 1, 1, 1, 1, 1, 1, 1, 1, 1, 1, 1, 1,\n",
       "       1, 1, 1, 1, 1, 1, 1, 1, 1, 1, 1, 1, 1, 1, 1, 1, 1, 1, 1, 1, 1, 1,\n",
       "       1, 1, 1, 1, 1, 1, 1, 1, 1, 1, 1, 1, 1, 1, 1, 1, 1, 1, 1, 1, 1, 1,\n",
       "       1, 1, 1, 1, 1, 1, 1, 1, 1, 1, 1, 1])"
      ]
     },
     "execution_count": 19,
     "metadata": {},
     "output_type": "execute_result"
    }
   ],
   "source": [
    "Y_bananas=np.ones(n,dtype=\"int\")\n",
    "Y_bananas"
   ]
  },
  {
   "cell_type": "code",
   "execution_count": 20,
   "metadata": {},
   "outputs": [
    {
     "data": {
      "text/plain": [
       "array([0, 0, 0, 0, 0, 0, 0, 0, 0, 0, 0, 0, 0, 0, 0, 0, 0, 0, 0, 0, 0, 0,\n",
       "       0, 0, 0, 0, 0, 0, 0, 0, 0, 0, 0, 0, 0, 0, 0, 0, 0, 0, 0, 0, 0, 0,\n",
       "       0, 0, 0, 0, 0, 0, 0, 0, 0, 0, 0, 0, 0, 0, 0, 0, 0, 0, 0, 0, 0, 0,\n",
       "       0, 0, 0, 0, 0, 0, 0, 0, 0, 0, 0, 0, 0, 0, 0, 0, 0, 0, 0, 0, 0, 0,\n",
       "       0, 0, 0, 0, 0, 0, 0, 0, 0, 0, 0, 0, 1, 1, 1, 1, 1, 1, 1, 1, 1, 1,\n",
       "       1, 1, 1, 1, 1, 1, 1, 1, 1, 1, 1, 1, 1, 1, 1, 1, 1, 1, 1, 1, 1, 1,\n",
       "       1, 1, 1, 1, 1, 1, 1, 1, 1, 1, 1, 1, 1, 1, 1, 1, 1, 1, 1, 1, 1, 1,\n",
       "       1, 1, 1, 1, 1, 1, 1, 1, 1, 1, 1, 1, 1, 1, 1, 1, 1, 1, 1, 1, 1, 1,\n",
       "       1, 1, 1, 1, 1, 1, 1, 1, 1, 1, 1, 1, 1, 1, 1, 1, 1, 1, 1, 1, 1, 1,\n",
       "       1, 1])"
      ]
     },
     "execution_count": 20,
     "metadata": {},
     "output_type": "execute_result"
    }
   ],
   "source": [
    "Y_train=np.concatenate((Y_apples,Y_bananas))\n",
    "Y_train"
   ]
  },
  {
   "cell_type": "code",
   "execution_count": 21,
   "metadata": {},
   "outputs": [],
   "source": [
    "def euclidean_distance(x1,x2):\n",
    "    return np.sqrt(np.sum((x1-x2)**2))"
   ]
  },
  {
   "cell_type": "code",
   "execution_count": 23,
   "metadata": {},
   "outputs": [
    {
     "data": {
      "text/plain": [
       "[1.6770787419400022,\n",
       " 1.5275964547946097,\n",
       " 2.4330563845963225,\n",
       " 0.5530961867503305,\n",
       " 0.7996812992528689,\n",
       " 1.784430134812684,\n",
       " 1.2443913374659314,\n",
       " 2.0629207074440985,\n",
       " 1.5516419745905738,\n",
       " 3.257660944678124,\n",
       " 1.4290772193894266,\n",
       " 1.5979478134311436,\n",
       " 2.5600324754824917,\n",
       " 2.4316371733277706,\n",
       " 1.3464298934134569,\n",
       " 1.8025467986446113,\n",
       " 1.7180482265937702,\n",
       " 0.7566631638829306,\n",
       " 1.8492111208215225,\n",
       " 2.406034110545564,\n",
       " 2.08134387212792,\n",
       " 1.250438535207523,\n",
       " 0.7452144558941213,\n",
       " 1.9981083663691992,\n",
       " 1.4354152353527279,\n",
       " 1.9518375355654105,\n",
       " 2.6957017971365165,\n",
       " 0.24461272805699796,\n",
       " 3.2408172886401037,\n",
       " 3.733012791066733,\n",
       " 1.8341814829325878,\n",
       " 2.4902509688454386,\n",
       " 1.5846973030209697,\n",
       " 0.4795846138180547,\n",
       " 0.9070930407405123,\n",
       " 1.0099899539428485,\n",
       " 3.270099884698521,\n",
       " 2.8157035728210675,\n",
       " 1.5132778775870206,\n",
       " 1.5697066105867532,\n",
       " 3.9186659053698047,\n",
       " 2.5438219034210148,\n",
       " 0.7218628251843402,\n",
       " 1.4622223352462727,\n",
       " 3.0270808163019276,\n",
       " 3.6614060138290605,\n",
       " 2.84984438593191,\n",
       " 3.322196482310966,\n",
       " 2.592989957900926,\n",
       " 0.9455165162832737,\n",
       " 2.539296752541689,\n",
       " 3.4482896228729634,\n",
       " 3.029361746779073,\n",
       " 2.1641439089635037,\n",
       " 1.6745005975607938,\n",
       " 2.7001470187779217,\n",
       " 1.215348266708921,\n",
       " 0.3415187453783347,\n",
       " 1.4095933848745197,\n",
       " 2.7943931286396544,\n",
       " 0.5986588592304823,\n",
       " 2.7116795250543997,\n",
       " 1.9908705281181989,\n",
       " 2.3844385398299996,\n",
       " 1.3684673569688492,\n",
       " 1.237351028244497,\n",
       " 3.3918219287935796,\n",
       " 2.700641709823639,\n",
       " 2.2439638400069604,\n",
       " 1.4961304238368405,\n",
       " 4.047178437771399,\n",
       " 2.166866098216061,\n",
       " 2.362962135378079,\n",
       " 0.534619117688356,\n",
       " 0.13049103071690848,\n",
       " 3.2661435282461513,\n",
       " 2.47381081090358,\n",
       " 2.505477407211365,\n",
       " 1.6430116353295077,\n",
       " 2.64743398552246,\n",
       " 0.882345183460943,\n",
       " 0.8244019744219898,\n",
       " 1.5873693758963374,\n",
       " 2.106558820244381,\n",
       " 1.3919847524356062,\n",
       " 1.6212289843722125,\n",
       " 0.6835042715896255,\n",
       " 1.5094605320943084,\n",
       " 0.784145737702762,\n",
       " 1.6430066608688663,\n",
       " 3.094411436252844,\n",
       " 1.741580012885654,\n",
       " 1.547751202852991,\n",
       " 3.6519191897775065,\n",
       " 1.7467819447137898,\n",
       " 1.5655518101336627,\n",
       " 1.4720794640574622,\n",
       " 2.560391089507437,\n",
       " 2.7327572031155674,\n",
       " 1.1136105162491459,\n",
       " 0.6974497914280738,\n",
       " 0.6156422351545491,\n",
       " 1.3123340857631804,\n",
       " 1.640025743510172,\n",
       " 0.45648524691807957,\n",
       " 1.3302467065941277,\n",
       " 1.7727105348880086,\n",
       " 3.112213653798874,\n",
       " 1.3500559028595336,\n",
       " 2.4161618892408887,\n",
       " 0.9595091520266353,\n",
       " 1.6811156355965444,\n",
       " 2.172306157037499,\n",
       " 1.6349505227744894,\n",
       " 1.682523508679834,\n",
       " 0.5818680536755955,\n",
       " 2.763479974293763,\n",
       " 2.326630116151406,\n",
       " 1.9130810808037508,\n",
       " 3.289848913580258,\n",
       " 1.5620910323384194,\n",
       " 3.8031976805592835,\n",
       " 1.9623576947629944,\n",
       " 2.0215320719562286,\n",
       " 0.9326781408500752,\n",
       " 2.421286369995156,\n",
       " 2.3482064602548527,\n",
       " 1.567801508516155,\n",
       " 1.6077726859761523,\n",
       " 2.95809095490051,\n",
       " 1.3103573586084543,\n",
       " 2.5168745717305607,\n",
       " 2.680952894643359,\n",
       " 1.1972034399762848,\n",
       " 1.108329647402491,\n",
       " 1.8153536449687628,\n",
       " 1.2781463587437296,\n",
       " 2.6960772247475964,\n",
       " 2.2043158862350594,\n",
       " 1.546451202984302,\n",
       " 3.332834735209684,\n",
       " 2.8890217988260396,\n",
       " 1.6879313062471646,\n",
       " 1.4145329589568583,\n",
       " 1.179666245807855,\n",
       " 1.5403199056916785,\n",
       " 2.047290957723649,\n",
       " 0.7741623674936575,\n",
       " 2.044670523064317,\n",
       " 2.4496043512680705,\n",
       " 2.865515746118318,\n",
       " 2.721827869282952,\n",
       " 1.7058591064893358,\n",
       " 1.0991627173803749,\n",
       " 4.206797373873985,\n",
       " 1.932620626976953,\n",
       " 3.6011160027734475,\n",
       " 1.577292585017132,\n",
       " 0.6271881724362478,\n",
       " 1.717690558811178,\n",
       " 1.9570496763318184,\n",
       " 2.9917332857680576,\n",
       " 1.5900155407762437,\n",
       " 1.6756027689982647,\n",
       " 2.5462115200827187,\n",
       " 1.775715507668472,\n",
       " 1.7531765200655456,\n",
       " 2.042864914772919,\n",
       " 2.281678957877159,\n",
       " 3.731420367806149,\n",
       " 3.1838520867842695,\n",
       " 1.6809300255282587,\n",
       " 4.070430815120835,\n",
       " 0.8432390442586513,\n",
       " 0.6681546943016992,\n",
       " 1.4068671627571352,\n",
       " 1.2421874386519516,\n",
       " 1.2122567516883613,\n",
       " 2.839487392405986,\n",
       " 2.101944848196011,\n",
       " 1.679145899918441,\n",
       " 2.1586447884082536,\n",
       " 2.4912160982243545,\n",
       " 2.3466122559310914,\n",
       " 2.1629635923538757,\n",
       " 2.357990496426423,\n",
       " 2.031208286889636,\n",
       " 1.3668765278780732,\n",
       " 1.3781403409398507,\n",
       " 0.8671380172350015,\n",
       " 1.8182130600130826,\n",
       " 1.4455562698715356,\n",
       " 2.0621274330283423,\n",
       " 1.0398670165020085,\n",
       " 2.26040254568769,\n",
       " 1.0650989461787674,\n",
       " 1.7606992360979938,\n",
       " 3.069205655035799,\n",
       " 1.138987491608512,\n",
       " 0.9047673357432553]"
      ]
     },
     "execution_count": 23,
     "metadata": {},
     "output_type": "execute_result"
    }
   ],
   "source": [
    "new_fruit=np.array([5,7])\n",
    "distances=[]\n",
    "for x in x_train:\n",
    "    d=euclidean_distance(new_fruit,x)\n",
    "    distances.append(d)\n",
    "distances"
   ]
  },
  {
   "cell_type": "code",
   "execution_count": 24,
   "metadata": {},
   "outputs": [],
   "source": [
    "k=5"
   ]
  },
  {
   "cell_type": "code",
   "execution_count": 29,
   "metadata": {},
   "outputs": [
    {
     "data": {
      "text/plain": [
       "array([ 74,  27,  57, 104,  33], dtype=int64)"
      ]
     },
     "execution_count": 29,
     "metadata": {},
     "output_type": "execute_result"
    }
   ],
   "source": [
    "nearest_neighbores=np.argsort(distances)[0:k]\n",
    "nearest_neighbores"
   ]
  },
  {
   "cell_type": "code",
   "execution_count": 36,
   "metadata": {},
   "outputs": [
    {
     "data": {
      "text/plain": [
       "array([0, 0, 0, 1, 0])"
      ]
     },
     "execution_count": 36,
     "metadata": {},
     "output_type": "execute_result"
    }
   ],
   "source": [
    "Y_train[nearest_neighbores]\n"
   ]
  },
  {
   "cell_type": "code",
   "execution_count": 40,
   "metadata": {},
   "outputs": [
    {
     "data": {
      "text/plain": [
       "array([4, 1], dtype=int64)"
      ]
     },
     "execution_count": 40,
     "metadata": {},
     "output_type": "execute_result"
    }
   ],
   "source": [
    "result=np.bincount(Y_train[nearest_neighbores])\n",
    "result"
   ]
  },
  {
   "cell_type": "code",
   "execution_count": 45,
   "metadata": {},
   "outputs": [
    {
     "name": "stdout",
     "output_type": "stream",
     "text": [
      "apple\n"
     ]
    }
   ],
   "source": [
    "if np.argmax(result)==0:\n",
    "    print(\"apple\")\n",
    "else:\n",
    "     print(\"banana\")"
   ]
  }
 ],
 "metadata": {
  "kernelspec": {
   "display_name": "Python 3",
   "language": "python",
   "name": "python3"
  },
  "language_info": {
   "codemirror_mode": {
    "name": "ipython",
    "version": 3
   },
   "file_extension": ".py",
   "mimetype": "text/x-python",
   "name": "python",
   "nbconvert_exporter": "python",
   "pygments_lexer": "ipython3",
   "version": "3.10.8"
  },
  "orig_nbformat": 4
 },
 "nbformat": 4,
 "nbformat_minor": 2
}
